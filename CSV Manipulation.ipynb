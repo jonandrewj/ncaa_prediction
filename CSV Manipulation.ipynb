{
 "cells": [
  {
   "cell_type": "markdown",
   "metadata": {},
   "source": [
    "# Python script to do joining and manipulation of data"
   ]
  },
  {
   "cell_type": "code",
   "execution_count": 1,
   "metadata": {
    "collapsed": true
   },
   "outputs": [],
   "source": [
    "# LIBRARIES TO USE ###################################################\n",
    "import pandas"
   ]
  },
  {
   "cell_type": "code",
   "execution_count": 8,
   "metadata": {
    "collapsed": true
   },
   "outputs": [],
   "source": [
    "# UTILITY FUNCTIONS ##################################################\n",
    "def get_dataframe( filename ):\n",
    "    return pandas.read_csv( filename )\n",
    "\n",
    "def join_data( data_one, data_two, cols, join_type='inner', rename={} ):\n",
    "    \n",
    "    # RENAME THE COLUMNS FOR DATA_TWO IF NECESSARY ###################\n",
    "    if rename: # EMPTY DICTIONARIES EVALUATE TO FALSE ################\n",
    "        data_two = pandas.rename( index=str, columns=rename_map )\n",
    "    \n",
    "    return pandas.merge( data_one, data_two, how=join_type, on=cols )\n",
    "\n",
    "def write( data, filename ):\n",
    "    data.to_csv( filename )"
   ]
  },
  {
   "cell_type": "code",
   "execution_count": 10,
   "metadata": {
    "collapsed": true
   },
   "outputs": [],
   "source": [
    "# EXAMPLES ###########################################################\n",
    "df1 = get_dataframe( 'data/NCAATourneySeeds.csv')\n",
    "df2 = get_dataframe( 'data/TeamConferences.csv')\n",
    "cols = ['TeamID', 'Season']\n",
    "joined = join_data( df1, df2, cols=cols )\n",
    "write( joined, 'cleaned/ConferenceSeeds.csv')"
   ]
  }
 ],
 "metadata": {
  "kernelspec": {
   "display_name": "Python 3",
   "language": "python",
   "name": "python3"
  },
  "language_info": {
   "codemirror_mode": {
    "name": "ipython",
    "version": 3
   },
   "file_extension": ".py",
   "mimetype": "text/x-python",
   "name": "python",
   "nbconvert_exporter": "python",
   "pygments_lexer": "ipython3",
   "version": "3.6.3"
  }
 },
 "nbformat": 4,
 "nbformat_minor": 2
}
