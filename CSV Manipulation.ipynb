{
 "cells": [
  {
   "cell_type": "markdown",
   "metadata": {},
   "source": [
    "# Python script to do joining and manipulation of data"
   ]
  },
  {
   "cell_type": "code",
   "execution_count": 1,
   "metadata": {
    "collapsed": true
   },
   "outputs": [],
   "source": [
    "# LIBRARIES TO USE ###################################################\n",
    "import pandas"
   ]
  },
  {
   "cell_type": "code",
   "execution_count": 24,
   "metadata": {
    "collapsed": true
   },
   "outputs": [],
   "source": [
    "# UTILITY FUNCTIONS ##################################################\n",
    "def get_dataframe( filename ):\n",
    "    return pandas.read_csv( filename )\n",
    "\n",
    "def join_data( data_one, data_two, cols, join_type='inner', rename={} ):\n",
    "    \n",
    "    # RENAME THE COLUMNS FOR DATA_TWO IF NECESSARY ###################\n",
    "    if rename: # EMPTY DICTIONARIES EVALUATE TO FALSE ################\n",
    "        data_two = data_two.rename( index=str, columns=rename )\n",
    "    \n",
    "    return pandas.merge( data_one, data_two, how=join_type, on=cols )\n",
    "\n",
    "def write( data, filename, cols=[] ):\n",
    "    if len(cols) > 0:\n",
    "        data.to_csv( filename, columns=cols, index=False )\n",
    "    else:    \n",
    "        data.to_csv( filename, index=False )"
   ]
  },
  {
   "cell_type": "markdown",
   "metadata": {},
   "source": [
    "## Examples"
   ]
  },
  {
   "cell_type": "code",
   "execution_count": 25,
   "metadata": {
    "collapsed": true
   },
   "outputs": [],
   "source": [
    "# BASIC JOIN EXAMPLE #################################################\n",
    "df1 = get_dataframe( 'data/NCAATourneySeeds.csv')\n",
    "df2 = get_dataframe( 'data/TeamConferences.csv')\n",
    "cols = ['TeamID', 'Season']\n",
    "joined = join_data( df1, df2, cols=cols )\n",
    "write( joined, 'cleaned/ConferenceSeeds.csv')"
   ]
  },
  {
   "cell_type": "code",
   "execution_count": 26,
   "metadata": {},
   "outputs": [
    {
     "data": {
      "text/html": [
       "<div>\n",
       "<style>\n",
       "    .dataframe thead tr:only-child th {\n",
       "        text-align: right;\n",
       "    }\n",
       "\n",
       "    .dataframe thead th {\n",
       "        text-align: left;\n",
       "    }\n",
       "\n",
       "    .dataframe tbody tr th {\n",
       "        vertical-align: top;\n",
       "    }\n",
       "</style>\n",
       "<table border=\"1\" class=\"dataframe\">\n",
       "  <thead>\n",
       "    <tr style=\"text-align: right;\">\n",
       "      <th></th>\n",
       "      <th>Season</th>\n",
       "      <th>WTeamID</th>\n",
       "      <th>WScore</th>\n",
       "      <th>LTeamID</th>\n",
       "      <th>LScore</th>\n",
       "      <th>WSeed</th>\n",
       "      <th>LSeed</th>\n",
       "      <th>SeedDiff</th>\n",
       "    </tr>\n",
       "  </thead>\n",
       "  <tbody>\n",
       "    <tr>\n",
       "      <th>0</th>\n",
       "      <td>1985</td>\n",
       "      <td>1116</td>\n",
       "      <td>63</td>\n",
       "      <td>1234</td>\n",
       "      <td>54</td>\n",
       "      <td>9</td>\n",
       "      <td>8</td>\n",
       "      <td>-1</td>\n",
       "    </tr>\n",
       "    <tr>\n",
       "      <th>1</th>\n",
       "      <td>1985</td>\n",
       "      <td>1120</td>\n",
       "      <td>59</td>\n",
       "      <td>1345</td>\n",
       "      <td>58</td>\n",
       "      <td>11</td>\n",
       "      <td>6</td>\n",
       "      <td>-5</td>\n",
       "    </tr>\n",
       "    <tr>\n",
       "      <th>2</th>\n",
       "      <td>1985</td>\n",
       "      <td>1120</td>\n",
       "      <td>66</td>\n",
       "      <td>1242</td>\n",
       "      <td>64</td>\n",
       "      <td>11</td>\n",
       "      <td>3</td>\n",
       "      <td>-8</td>\n",
       "    </tr>\n",
       "    <tr>\n",
       "      <th>3</th>\n",
       "      <td>1985</td>\n",
       "      <td>1207</td>\n",
       "      <td>68</td>\n",
       "      <td>1250</td>\n",
       "      <td>43</td>\n",
       "      <td>1</td>\n",
       "      <td>16</td>\n",
       "      <td>15</td>\n",
       "    </tr>\n",
       "    <tr>\n",
       "      <th>4</th>\n",
       "      <td>1985</td>\n",
       "      <td>1207</td>\n",
       "      <td>63</td>\n",
       "      <td>1396</td>\n",
       "      <td>46</td>\n",
       "      <td>1</td>\n",
       "      <td>8</td>\n",
       "      <td>7</td>\n",
       "    </tr>\n",
       "  </tbody>\n",
       "</table>\n",
       "</div>"
      ],
      "text/plain": [
       "   Season  WTeamID  WScore  LTeamID  LScore  WSeed  LSeed  SeedDiff\n",
       "0    1985     1116      63     1234      54      9      8        -1\n",
       "1    1985     1120      59     1345      58     11      6        -5\n",
       "2    1985     1120      66     1242      64     11      3        -8\n",
       "3    1985     1207      68     1250      43      1     16        15\n",
       "4    1985     1207      63     1396      46      1      8         7"
      ]
     },
     "execution_count": 26,
     "metadata": {},
     "output_type": "execute_result"
    }
   ],
   "source": [
    "# ORGANIZE THE NCAA TOURNAMENT RESULTS BASED ON THE SEED #############\n",
    "seeds = get_dataframe( 'data/NCAATourneySeeds.csv' )\n",
    "results = get_dataframe( 'data/NCAATourneyCompactResults.csv' )\n",
    "\n",
    "join_cols = ['WTeamID', 'Season']\n",
    "rename = { 'TeamID':'WTeamID', 'Seed':'WSeed' }\n",
    "winner_joined = join_data( results, seeds, cols=join_cols, rename=rename )\n",
    "\n",
    "join_cols = ['LTeamID', 'Season']\n",
    "rename = { 'TeamID':'LTeamID', 'Seed':'LSeed' }\n",
    "both_joined = join_data( winner_joined, seeds, cols=join_cols, rename=rename )\n",
    "\n",
    "both_joined['WSeed'] = both_joined['WSeed'].apply( (lambda x: int(x[1:3])) )\n",
    "both_joined['LSeed'] = both_joined['LSeed'].apply( (lambda x: int(x[1:3])) )\n",
    "both_joined['SeedDiff'] = both_joined.apply( (lambda x: x['LSeed'] - x['WSeed']), axis=1 )\n",
    "\n",
    "write_cols = ['Season', 'WTeamID', 'WScore', 'LTeamID', 'LScore', 'WSeed', 'LSeed', 'SeedDiff']\n",
    "write( both_joined, 'cleaned/TourneyResultsWithSeeds.csv', cols=write_cols )\n",
    "\n",
    "finished = get_dataframe( 'cleaned/TourneyResultsWithSeeds.csv' )\n",
    "finished.head(5)"
   ]
  }
 ],
 "metadata": {
  "kernelspec": {
   "display_name": "Python 3",
   "language": "python",
   "name": "python3"
  },
  "language_info": {
   "codemirror_mode": {
    "name": "ipython",
    "version": 3
   },
   "file_extension": ".py",
   "mimetype": "text/x-python",
   "name": "python",
   "nbconvert_exporter": "python",
   "pygments_lexer": "ipython3",
   "version": "3.6.3"
  }
 },
 "nbformat": 4,
 "nbformat_minor": 2
}
