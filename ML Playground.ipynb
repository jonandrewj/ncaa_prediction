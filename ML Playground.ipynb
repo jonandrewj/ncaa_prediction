{
 "cells": [
  {
   "cell_type": "markdown",
   "metadata": {},
   "source": [
    "# Examples of Basic ML Learning Tools"
   ]
  },
  {
   "cell_type": "code",
   "execution_count": null,
   "metadata": {
    "collapsed": true
   },
   "outputs": [],
   "source": [
    "# The goal of this notebook is to look at just the ability of the seed number\n",
    "# to determine the winner. One caveat here is that the model always should be correct when two teams of the same seed go head to head. I could fix it but it probably isn't worth the effort. The accuracies seem to be about 70% or maybe 65% considering the imperfect data. I also broke the learning down by season just to see if we are potentially getting better at seeding teams. "
   ]
  },
  {
   "cell_type": "code",
   "execution_count": 3,
   "metadata": {
    "collapsed": true
   },
   "outputs": [],
   "source": [
    "import pandas\n",
    "import sklearn.linear_model"
   ]
  },
  {
   "cell_type": "code",
   "execution_count": 32,
   "metadata": {},
   "outputs": [
    {
     "name": "stdout",
     "output_type": "stream",
     "text": [
      "All Data Avg: 73.0%\n",
      "1985: 73.8%\n",
      "1986: 70.0%\n",
      "1987: 72.3%\n",
      "1988: 72.3%\n",
      "1989: 65.4%\n",
      "1990: 62.3%\n",
      "1991: 79.2%\n",
      "1992: 72.3%\n",
      "1993: 80.8%\n",
      "1994: 73.8%\n",
      "1995: 73.1%\n",
      "1996: 77.7%\n",
      "1997: 73.1%\n",
      "1998: 71.5%\n",
      "1999: 63.1%\n",
      "2000: 65.4%\n",
      "2001: 59.2%\n",
      "2002: 77.7%\n",
      "2003: 62.3%\n",
      "2004: 70.0%\n",
      "2005: 73.1%\n",
      "2006: 63.8%\n",
      "2007: 81.5%\n",
      "2008: 80.8%\n",
      "2009: 75.4%\n",
      "2010: 66.9%\n",
      "2011: 70.0%\n",
      "2012: 76.9%\n",
      "2013: 74.6%\n",
      "2014: 66.2%\n",
      "2015: 83.8%\n",
      "2016: 68.5%\n",
      "2017: 78.5%\n"
     ]
    }
   ],
   "source": [
    "data = pandas.read_csv( 'cleaned/TourneyResultsWithSeeds.csv')\n",
    "\n",
    "# DISSASOCIATE THE SEEDS AS WINNING OR LOSING ####################\n",
    "half = data.sample( frac=.5 )\n",
    "rest = data.drop( half.index )\n",
    "half = half.rename( index=str, columns={ 'WSeed':'Seed_One', 'LSeed':'Seed_Two'} )\n",
    "rest = rest.rename( index=str, columns={ 'LSeed':'Seed_One', 'WSeed':'Seed_Two'} )\n",
    "data = pandas.concat( [rest, half] )\n",
    "\n",
    "# TRAINING AND TESTING DATA ############\n",
    "def test( data ):\n",
    "    accs = []\n",
    "    for i in range(10):\n",
    "        train = data.sample( frac=.8 )\n",
    "        test = data.drop( train.index )\n",
    "\n",
    "        # LOGISTIC REGRESSION LEARNER ##########\n",
    "        log_reg = sklearn.linear_model.LogisticRegression()\n",
    "\n",
    "        # TRAIN ################################\n",
    "        feature_columns = ['Seed_One', 'Seed_Two']\n",
    "        log_reg.fit( train.loc[:,feature_columns], train.BetterSeedWon )\n",
    "\n",
    "        # TEST #################################\n",
    "        acc = log_reg.score( test.loc[:,feature_columns], test.BetterSeedWon )\n",
    "        accs.append(acc)\n",
    "    return sum(accs) / float(len(accs))\n",
    "\n",
    "print('All Data Avg: {:.1%}'.format(test( data )) )\n",
    "\n",
    "for season in data['Season'].unique():\n",
    "    season_data = data.loc[ data['Season'] == season ]\n",
    "    print('{}: {:.1%}'.format(season, test(season_data) ))\n",
    "    "
   ]
  }
 ],
 "metadata": {
  "kernelspec": {
   "display_name": "Python 3",
   "language": "python",
   "name": "python3"
  },
  "language_info": {
   "codemirror_mode": {
    "name": "ipython",
    "version": 3
   },
   "file_extension": ".py",
   "mimetype": "text/x-python",
   "name": "python",
   "nbconvert_exporter": "python",
   "pygments_lexer": "ipython3",
   "version": "3.6.3"
  }
 },
 "nbformat": 4,
 "nbformat_minor": 2
}
